{
 "cells": [
  {
   "cell_type": "markdown",
   "source": [
    "# Latihan 1"
   ],
   "metadata": {}
  },
  {
   "cell_type": "code",
   "execution_count": 53,
   "source": [
    "def segiempat(panjang, lebar):\r\n",
    "    \"Fungsi menghitung segiempat\"\r\n",
    "    keliling_segiempat = 2*int(panjang) + 2*int(lebar)\r\n",
    "    luas_segiempat = int(panjang) * int(lebar)\r\n",
    "    print(\"Panjang segiempat = \", panjang)\r\n",
    "    print(\"Lebar segiempat = \", lebar)\r\n",
    "    print(\"Keliling segiempat = \", keliling_segiempat)\r\n",
    "    print(\"Luas segiempat = \", luas_segiempat)\r\n",
    "    \r\n",
    "def segitiga(alas, tinggi):\r\n",
    "    \"Fungsi menghitung segitiga\"\r\n",
    "    luas_segitiga = 1/2*int(alas)*int(tinggi)\r\n",
    "    print(\"Alas segitiga = \", alas)\r\n",
    "    print(\"Tinggi segitiga = \", tinggi)\r\n",
    "    print(\"Luas segitiga = \", luas_segitiga)\r\n",
    "\r\n",
    "print(\"Perhitungan 2 dimensi\")\r\n",
    "print(\"1. Segiempat\")\r\n",
    "print(\"2. Segitiga\")\r\n",
    "\r\n",
    "pilihan = int(input(\"Masukkan pilihan Anda: \"))\r\n",
    "\r\n",
    "if pilihan == 1:\r\n",
    "    p = int(input(\"Masukkan nilai panjang\"))\r\n",
    "    l = int(input(\"Masukkan nilai lebar\"))\r\n",
    "    segiempat(p,l)\r\n",
    "\r\n",
    "elif pilihan == 2:\r\n",
    "    a = int(input(\"Masukkan nilai alas: \"))\r\n",
    "    t = int(input(\"Masukkan nilai tinggi: \"))\r\n",
    "    segitiga(a,t)\r\n",
    "\r\n",
    "else:\r\n",
    "    print(\"Pilihan Anda salah\")"
   ],
   "outputs": [
    {
     "output_type": "stream",
     "name": "stdout",
     "text": [
      "Perhitungan 2 dimensi\n",
      "1. Segiempat\n",
      "2. Segitiga\n",
      "Panjang segiempat =  23\n",
      "Lebar segiempat =  22\n",
      "Keliling segiempat =  90\n",
      "Luas segiempat =  506\n"
     ]
    }
   ],
   "metadata": {}
  },
  {
   "cell_type": "code",
   "execution_count": 55,
   "source": [
    "def segiempat(panjang, lebar):\r\n",
    "    \"Fungsi menghitung segiempat\"\r\n",
    "    keliling_segiempat = 2*int(panjang) + 2*int(lebar)\r\n",
    "    luas_segiempat = int(panjang) * int(lebar)\r\n",
    "    print(\"Panjang segiempat = \", panjang)\r\n",
    "    print(\"Lebar segiempat = \", lebar)\r\n",
    "    print(\"Keliling segiempat = \", keliling_segiempat)\r\n",
    "    print(\"Luas segiempat = \", luas_segiempat)\r\n",
    "    \r\n",
    "def segitiga(alas, tinggi):\r\n",
    "    \"Fungsi menghitung segitiga\"\r\n",
    "    luas_segitiga = 1/2*int(alas)*int(tinggi)\r\n",
    "    print(\"Alas segitiga = \", alas)\r\n",
    "    print(\"Tinggi segitiga = \", tinggi)\r\n",
    "    print(\"Luas segitiga = \", luas_segitiga)\r\n",
    "\r\n",
    "segitiga(2,3)\r\n",
    "segiempat(4,5)"
   ],
   "outputs": [
    {
     "output_type": "stream",
     "name": "stdout",
     "text": [
      "Alas segitiga =  2\n",
      "Tinggi segitiga =  3\n",
      "Luas segitiga =  3.0\n",
      "Panjang segiempat =  4\n",
      "Lebar segiempat =  5\n",
      "Keliling segiempat =  18\n",
      "Luas segiempat =  20\n"
     ]
    }
   ],
   "metadata": {}
  },
  {
   "cell_type": "markdown",
   "source": [
    "# Latihan 2"
   ],
   "metadata": {}
  },
  {
   "cell_type": "code",
   "execution_count": 58,
   "source": [
    "def segiempat(panjang, lebar):\r\n",
    "    \"Fungsi menghitung segiempat\"\r\n",
    "    keliling_segiempat = 2*int(panjang) + 2*int(lebar)\r\n",
    "    luas_segiempat = int(panjang) * int(lebar)\r\n",
    "    print(\"Panjang segiempat = \", panjang)\r\n",
    "    print(\"Lebar segiempat = \", lebar)\r\n",
    "    print(\"Keliling segiempat = \", keliling_segiempat)\r\n",
    "    print(\"Luas segiempat = \", luas_segiempat)\r\n",
    "    \r\n",
    "def segitiga(alas, tinggi):\r\n",
    "    \"Fungsi menghitung segitiga\"\r\n",
    "    luas_segitiga = 1/2*int(alas)*int(tinggi)\r\n",
    "    print(\"Alas segitiga = \", alas)\r\n",
    "    print(\"Tinggi segitiga = \", tinggi)\r\n",
    "    print(\"Luas segitiga = \", luas_segitiga)\r\n",
    "\r\n",
    "def persegi(sisi):\r\n",
    "    \"Fungsi menghitung persegi\"\r\n",
    "    keliling_persegi = 4*int(sisi)\r\n",
    "    luas_persegi = int(sisi)*int(sisi)\r\n",
    "    print(\"Sisi persegi = \", sisi)\r\n",
    "    print(\"Keliling persegi = \", keliling_persegi)\r\n",
    "    print(\"Luas persegi = \", luas_persegi)\r\n",
    "def lingkaran(jari_jari):\r\n",
    "    \"Fungsi menghitung lingkaran\"\r\n",
    "    keliling_lingkaran = 2*(22/7)*float(jari_jari)\r\n",
    "    luas_lingkaran = (22/7)*float(jari_jari)*float(jari_jari)\r\n",
    "    print(\"Jari-jari lingkaran = \", jari_jari)\r\n",
    "    print(\"Keliling lingkaran = \", keliling_lingkaran)\r\n",
    "    print(\"Luas lingkaran = \", luas_lingkaran)\r\n",
    "\r\n",
    "print(\"Perhitungan 2 dimensi\")\r\n",
    "print(\"1. Segiempat\")\r\n",
    "print(\"2. Segitiga\")\r\n",
    "print(\"3. Persegi\")\r\n",
    "print(\"4. Lingkaran\")\r\n",
    "\r\n",
    "pilihan = int(input(\"Masukkan pilihan Anda: \"))\r\n",
    "\r\n",
    "if pilihan == 1:\r\n",
    "    p = int(input(\"Masukkan nilai panjang\"))\r\n",
    "    l = int(input(\"Masukkan nilai lebar\"))\r\n",
    "    segiempat(p,l)\r\n",
    "\r\n",
    "elif pilihan == 2:\r\n",
    "    a = int(input(\"Masukkan nilai alas: \"))\r\n",
    "    t = int(input(\"Masukkan nilai tinggi: \"))\r\n",
    "    segitiga(a,t)\r\n",
    "\r\n",
    "elif pilihan == 3:\r\n",
    "    s = int(input(\"Masukkan nilai sisi: \"))\r\n",
    "    persegi(s)\r\n",
    "\r\n",
    "elif pilihan == 4:\r\n",
    "    r = int(input(\"Masukkan nilai jari-jari: \"))\r\n",
    "    lingkaran(r)\r\n",
    "\r\n",
    "else:\r\n",
    "    print(\"Pilihan Anda salah\")"
   ],
   "outputs": [
    {
     "output_type": "stream",
     "name": "stdout",
     "text": [
      "Perhitungan 2 dimensi\n",
      "1. Segiempat\n",
      "2. Segitiga\n",
      "3. Persegi\n",
      "4. Lingkaran\n",
      "Pilihan Anda salah\n"
     ]
    }
   ],
   "metadata": {}
  },
  {
   "cell_type": "code",
   "execution_count": 61,
   "source": [
    "def segiempat():\r\n",
    "    \"Fungsi menghitung segiempat\"\r\n",
    "    panjang = int(input(\"Masukkan nilai panjang\"))\r\n",
    "    lebar = int(input(\"Masukkan nilai lebar\"))\r\n",
    "    keliling_segiempat = 2*int(panjang) + 2*int(lebar)\r\n",
    "    luas_segiempat = int(panjang) * int(lebar)\r\n",
    "    print(\"Panjang segiempat = \", panjang)\r\n",
    "    print(\"Lebar segiempat = \", lebar)\r\n",
    "    print(\"Keliling segiempat = \", keliling_segiempat)\r\n",
    "    print(\"Luas segiempat = \", luas_segiempat)\r\n",
    "    \r\n",
    "def segitiga():\r\n",
    "    \"Fungsi menghitung segitiga\"\r\n",
    "    alas = int(input(\"Masukkan nilai alas: \"))\r\n",
    "    tinggi = int(input(\"Masukkan nilai tinggi: \"))\r\n",
    "    luas_segitiga = 1/2*int(alas)*int(tinggi)\r\n",
    "    print(\"Alas segitiga = \", alas)\r\n",
    "    print(\"Tinggi segitiga = \", tinggi)\r\n",
    "    print(\"Luas segitiga = \", luas_segitiga)\r\n",
    "\r\n",
    "def persegi():\r\n",
    "    \"Fungsi menghitung persegi\"\r\n",
    "    sisi = int(input(\"Masukkan nilai sisi: \"))\r\n",
    "    keliling_persegi = 4*int(sisi)\r\n",
    "    luas_persegi = int(sisi)*int(sisi)\r\n",
    "    print(\"Sisi persegi = \", sisi)\r\n",
    "    print(\"Keliling persegi = \", keliling_persegi)\r\n",
    "    print(\"Luas persegi = \", luas_persegi)\r\n",
    "def lingkaran():\r\n",
    "    \"Fungsi menghitung lingkaran\"\r\n",
    "    jari_jari = int(input(\"Masukkan nilai jari-jari: \"))\r\n",
    "    keliling_lingkaran = 2*(22/7)*float(jari_jari)\r\n",
    "    luas_lingkaran = (22/7)*float(jari_jari)*float(jari_jari)\r\n",
    "    print(\"Jari-jari lingkaran = \", jari_jari)\r\n",
    "    print(\"Keliling lingkaran = \", keliling_lingkaran)\r\n",
    "    print(\"Luas lingkaran = \", luas_lingkaran)\r\n",
    "\r\n",
    "print(\"Perhitungan 2 dimensi\")\r\n",
    "print(\"1. Segiempat\")\r\n",
    "print(\"2. Segitiga\")\r\n",
    "print(\"3. Persegi\")\r\n",
    "print(\"4. Lingkaran\")\r\n",
    "\r\n",
    "ulang = \"Y\"\r\n",
    "while ulang == \"Y\" or ulang == \"y\":\r\n",
    "\r\n",
    "    pilihan = int(input(\"Masukkan pilihan Anda: \"))\r\n",
    "\r\n",
    "    if pilihan == 1:\r\n",
    "        segiempat()\r\n",
    "\r\n",
    "    elif pilihan == 2:\r\n",
    "        segitiga()\r\n",
    "\r\n",
    "    elif pilihan == 3:\r\n",
    "        persegi()\r\n",
    "\r\n",
    "    elif pilihan == 4:\r\n",
    "        lingkaran()\r\n",
    "\r\n",
    "    else:\r\n",
    "        print(\"Pilihan Anda salah\")\r\n",
    "\r\n",
    "    ulang = input(\"Apakah Anda ingin mengulang? (Y/N): \")\r\n",
    "\r\n",
    "else:\r\n",
    "    print(\"Pilihan Anda salah\")"
   ],
   "outputs": [
    {
     "output_type": "stream",
     "name": "stdout",
     "text": [
      "Perhitungan 2 dimensi\n",
      "1. Segiempat\n",
      "2. Segitiga\n",
      "3. Persegi\n",
      "4. Lingkaran\n",
      "Sisi persegi =  22\n",
      "Keliling persegi =  88\n",
      "Luas persegi =  484\n",
      "Panjang segiempat =  32\n",
      "Lebar segiempat =  44\n",
      "Keliling segiempat =  152\n",
      "Luas segiempat =  1408\n",
      "Pilihan Anda salah\n"
     ]
    }
   ],
   "metadata": {}
  }
 ],
 "metadata": {
  "orig_nbformat": 4,
  "language_info": {
   "name": "python",
   "version": "3.8.5"
  },
  "kernelspec": {
   "name": "python3",
   "display_name": "Python 3.8.5 64-bit ('base': conda)"
  },
  "interpreter": {
   "hash": "e9a8cbe108339b3e607c1d1284bcb36d094c42c8cafb0877055799471693e25e"
  }
 },
 "nbformat": 4,
 "nbformat_minor": 2
}