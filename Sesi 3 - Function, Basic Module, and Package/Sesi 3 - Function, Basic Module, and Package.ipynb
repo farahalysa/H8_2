{
 "cells": [
  {
   "cell_type": "markdown",
   "source": [
    "# Function, Module, dan Package"
   ],
   "metadata": {}
  },
  {
   "cell_type": "markdown",
   "source": [
    "## Defining a Function"
   ],
   "metadata": {}
  },
  {
   "cell_type": "code",
   "execution_count": 1,
   "source": [
    "def my_function(p, l):\r\n",
    "    \"Function untuk mengitung luas\"\r\n",
    "    print(p * l)"
   ],
   "outputs": [],
   "metadata": {}
  },
  {
   "cell_type": "code",
   "execution_count": 2,
   "source": [
    "my_function(2,4)"
   ],
   "outputs": [
    {
     "output_type": "stream",
     "name": "stdout",
     "text": [
      "8\n"
     ]
    }
   ],
   "metadata": {}
  },
  {
   "cell_type": "markdown",
   "source": [
    "## Calling a Function"
   ],
   "metadata": {}
  },
  {
   "cell_type": "code",
   "execution_count": 3,
   "source": [
    "# Function definition is here\r\n",
    "def printme( str ):\r\n",
    "   \"This prints a passed string into this function\"\r\n",
    "   print(str)\r\n",
    "   return;\r\n",
    "\r\n",
    "# Now you can call printme function\r\n",
    "printme(\"I'm first call to user defined function!\")\r\n",
    "printme(\"Again second call to the same function\")"
   ],
   "outputs": [
    {
     "output_type": "stream",
     "name": "stdout",
     "text": [
      "I'm first call to user defined function!\n",
      "Again second call to the same function\n"
     ]
    }
   ],
   "metadata": {}
  },
  {
   "cell_type": "markdown",
   "source": [
    "## Pass by reference vs value"
   ],
   "metadata": {}
  },
  {
   "cell_type": "code",
   "execution_count": 5,
   "source": [
    "# Function definition is here\r\n",
    "def changeme( mylist ):\r\n",
    "   \"This changes a passed list into this function\"\r\n",
    "   mylist.append([1,2,3,4]);\r\n",
    "   print(\"Values inside the function: \", mylist)\r\n",
    "   return\r\n",
    "\r\n",
    "# Now you can call changeme function\r\n",
    "mylist = [10,20,30];\r\n",
    "changeme( mylist );\r\n",
    "print(\"Values outside the function: \", mylist)"
   ],
   "outputs": [
    {
     "output_type": "stream",
     "name": "stdout",
     "text": [
      "Values inside the function:  [10, 20, 30, [1, 2, 3, 4]]\n",
      "Values outside the function:  [10, 20, 30, [1, 2, 3, 4]]\n"
     ]
    }
   ],
   "metadata": {}
  },
  {
   "cell_type": "code",
   "execution_count": 6,
   "source": [
    "# Function definition is here\r\n",
    "def changeme( mylist ):\r\n",
    "   \"This changes a passed list into this function\"\r\n",
    "   mylist = [1,2,3,4]; # This would assig new reference in mylist\r\n",
    "   print(\"Values inside the function: \", mylist)\r\n",
    "   return\r\n",
    "\r\n",
    "# Now you can call changeme function\r\n",
    "mylist = [10,20,30];\r\n",
    "changeme( mylist );\r\n",
    "print(\"Values outside the function: \", mylist)"
   ],
   "outputs": [
    {
     "output_type": "stream",
     "name": "stdout",
     "text": [
      "Values inside the function:  [1, 2, 3, 4]\n",
      "Values outside the function:  [10, 20, 30]\n"
     ]
    }
   ],
   "metadata": {}
  },
  {
   "cell_type": "markdown",
   "source": [
    "## Function Arguments"
   ],
   "metadata": {}
  },
  {
   "cell_type": "markdown",
   "source": [
    "### Required arguments"
   ],
   "metadata": {}
  },
  {
   "cell_type": "code",
   "execution_count": 9,
   "source": [
    "# Function definition is here\r\n",
    "# def printme( str ):\r\n",
    "#    \"This prints a passed string into this function\"\r\n",
    "#    print(str)\r\n",
    "#    return;\r\n",
    "\r\n",
    "# # Now you can call printme function\r\n",
    "# printme()"
   ],
   "outputs": [],
   "metadata": {}
  },
  {
   "cell_type": "markdown",
   "source": [
    "### Keyword arguments"
   ],
   "metadata": {}
  },
  {
   "cell_type": "code",
   "execution_count": 11,
   "source": [
    "# Function definition is here\r\n",
    "def printme( str ):\r\n",
    "   \"This prints a passed string into this function\"\r\n",
    "   print(str)\r\n",
    "   return;\r\n",
    "\r\n",
    "# Now you can call printme function\r\n",
    "printme(str = \"Hacktiv8\")"
   ],
   "outputs": [
    {
     "output_type": "stream",
     "name": "stdout",
     "text": [
      "Hacktiv8\n"
     ]
    }
   ],
   "metadata": {}
  },
  {
   "cell_type": "code",
   "execution_count": 13,
   "source": [
    "# Function definition is here\r\n",
    "def printinfo( name, age ):\r\n",
    "   \"This prints a passed info into this function\"\r\n",
    "   print(\"Name: \", name)\r\n",
    "   print(\"Age: \", age)\r\n",
    "   return;\r\n",
    "\r\n",
    "# Now you can call printinfo function\r\n",
    "printinfo( age=4, name=\"hacktiv8\" )"
   ],
   "outputs": [
    {
     "output_type": "stream",
     "name": "stdout",
     "text": [
      "Name:  hacktiv8\n",
      "Age:  4\n"
     ]
    }
   ],
   "metadata": {}
  },
  {
   "cell_type": "markdown",
   "source": [
    "### Default arguments"
   ],
   "metadata": {}
  },
  {
   "cell_type": "code",
   "execution_count": 16,
   "source": [
    "# Function definition is here\r\n",
    "def printinfo( name, age = 26 ):\r\n",
    "   \"This prints a passed info into this function\"\r\n",
    "   print(\"Name: \", name)\r\n",
    "   print(\"Age: \", age)\r\n",
    "   return;\r\n",
    "\r\n",
    "# Now you can call printinfo function\r\n",
    "printinfo( age=50, name=\"hacktiv8\" )\r\n",
    "printinfo( name=\"hacktiv\" )"
   ],
   "outputs": [
    {
     "output_type": "stream",
     "name": "stdout",
     "text": [
      "Name:  hacktiv8\n",
      "Age:  50\n",
      "Name:  hacktiv\n",
      "Age:  26\n"
     ]
    }
   ],
   "metadata": {}
  },
  {
   "cell_type": "markdown",
   "source": [
    "### Variable-length arguments"
   ],
   "metadata": {}
  },
  {
   "cell_type": "code",
   "execution_count": 17,
   "source": [
    "# Function definition is here\r\n",
    "def printinfo( arg1, *vartuple ):\r\n",
    "   \"This prints a variable passed arguments\"\r\n",
    "   print(\"Output is: \")\r\n",
    "   print(arg1)\r\n",
    "   for var in vartuple:\r\n",
    "      print(var)\r\n",
    "   return;\r\n",
    "\r\n",
    "# Now you can call printinfo function\r\n",
    "printinfo( 10 )\r\n",
    "printinfo( 70, 60, 50, \"a\" )"
   ],
   "outputs": [
    {
     "output_type": "stream",
     "name": "stdout",
     "text": [
      "Output is: \n",
      "10\n",
      "Output is: \n",
      "70\n",
      "60\n",
      "50\n",
      "a\n"
     ]
    }
   ],
   "metadata": {}
  },
  {
   "cell_type": "markdown",
   "source": [
    "## The Anonymous Functions"
   ],
   "metadata": {}
  },
  {
   "cell_type": "code",
   "execution_count": 22,
   "source": [
    "# Function definition is here\r\n",
    "sum = lambda arg1, arg2: arg1 + arg2;\r\n",
    "\r\n",
    "def sum(arg1, arg2):\r\n",
    "    arg1 + arg2\r\n",
    "    \r\n",
    "# Now you can call sum as a function\r\n",
    "print(\"Value of total : \", sum( 10, 20 ))\r\n",
    "print(\"Value of total : \", sum( 20, 20 ))"
   ],
   "outputs": [
    {
     "output_type": "stream",
     "name": "stdout",
     "text": [
      "Value of total :  None\n",
      "Value of total :  None\n"
     ]
    }
   ],
   "metadata": {}
  },
  {
   "cell_type": "markdown",
   "source": [
    "## The return Statement"
   ],
   "metadata": {}
  },
  {
   "cell_type": "markdown",
   "source": [
    "### Global vs. Local variables"
   ],
   "metadata": {}
  },
  {
   "cell_type": "code",
   "execution_count": 28,
   "source": [
    "total = 0; \r\n",
    "\r\n",
    "def sum( arg1, arg2 ):\r\n",
    "\r\n",
    "   total = arg1 + arg2; \r\n",
    "   print(\"Inside the function local total : \", total)\r\n",
    "   return total;\r\n",
    "\r\n",
    "def min():\r\n",
    "    \r\n",
    "   sum( 10, 20 );\r\n",
    "print(\"Outside the function global total : \", total)"
   ],
   "outputs": [
    {
     "output_type": "stream",
     "name": "stdout",
     "text": [
      "Outside the function global total :  0\n"
     ]
    }
   ],
   "metadata": {}
  },
  {
   "cell_type": "code",
   "execution_count": 1,
   "source": [
    "jumlahKucing = 20\r\n",
    "\r\n",
    "def jumlahHewan():\r\n",
    "    jumlahAnjing = 30\r\n",
    "    return jumlahKucing + jumlahAnjing\r\n",
    "\r\n",
    "def jumlahKelinci():\r\n",
    "    return jumlahKucing + jumlahKucing\r\n",
    "\r\n",
    "jumlahHewan()\r\n",
    "jumlahKelinci()"
   ],
   "outputs": [
    {
     "output_type": "execute_result",
     "data": {
      "text/plain": [
       "40"
      ]
     },
     "metadata": {},
     "execution_count": 1
    }
   ],
   "metadata": {}
  },
  {
   "cell_type": "markdown",
   "source": [
    "## Function, Module, dan Package"
   ],
   "metadata": {}
  },
  {
   "cell_type": "code",
   "execution_count": 2,
   "source": [
    "s = \"Hacktiv8-PTP Python For Data Science\"\r\n",
    "a = [100, 200, 300]\r\n",
    "\r\n",
    "def foo(arg) :\r\n",
    "    print(f'arg = {arg}')\r\n",
    "\r\n",
    "class Foo:\r\n",
    "    pass"
   ],
   "outputs": [],
   "metadata": {}
  },
  {
   "cell_type": "code",
   "execution_count": 3,
   "source": [
    "import mod\r\n",
    "print(mod.s)\r\n",
    "mod.a\r\n",
    "mod.foo(['quux', 'corge', 'grault'])\r\n",
    "x = mod.Foo()\r\n",
    "x"
   ],
   "outputs": [
    {
     "output_type": "error",
     "ename": "ModuleNotFoundError",
     "evalue": "No module named 'mod'",
     "traceback": [
      "\u001b[1;31m---------------------------------------------------------------------------\u001b[0m",
      "\u001b[1;31mModuleNotFoundError\u001b[0m                       Traceback (most recent call last)",
      "\u001b[1;32m<ipython-input-3-e0e4dddfa776>\u001b[0m in \u001b[0;36m<module>\u001b[1;34m\u001b[0m\n\u001b[1;32m----> 1\u001b[1;33m \u001b[1;32mimport\u001b[0m \u001b[0mmod\u001b[0m\u001b[1;33m\u001b[0m\u001b[1;33m\u001b[0m\u001b[0m\n\u001b[0m\u001b[0;32m      2\u001b[0m \u001b[0mprint\u001b[0m\u001b[1;33m(\u001b[0m\u001b[0mmod\u001b[0m\u001b[1;33m.\u001b[0m\u001b[0ms\u001b[0m\u001b[1;33m)\u001b[0m\u001b[1;33m\u001b[0m\u001b[1;33m\u001b[0m\u001b[0m\n\u001b[0;32m      3\u001b[0m \u001b[0mmod\u001b[0m\u001b[1;33m.\u001b[0m\u001b[0ma\u001b[0m\u001b[1;33m\u001b[0m\u001b[1;33m\u001b[0m\u001b[0m\n\u001b[0;32m      4\u001b[0m \u001b[0mmod\u001b[0m\u001b[1;33m.\u001b[0m\u001b[0mfoo\u001b[0m\u001b[1;33m(\u001b[0m\u001b[1;33m[\u001b[0m\u001b[1;34m'quux'\u001b[0m\u001b[1;33m,\u001b[0m \u001b[1;34m'corge'\u001b[0m\u001b[1;33m,\u001b[0m \u001b[1;34m'grault'\u001b[0m\u001b[1;33m]\u001b[0m\u001b[1;33m)\u001b[0m\u001b[1;33m\u001b[0m\u001b[1;33m\u001b[0m\u001b[0m\n\u001b[0;32m      5\u001b[0m \u001b[0mx\u001b[0m \u001b[1;33m=\u001b[0m \u001b[0mmod\u001b[0m\u001b[1;33m.\u001b[0m\u001b[0mFoo\u001b[0m\u001b[1;33m(\u001b[0m\u001b[1;33m)\u001b[0m\u001b[1;33m\u001b[0m\u001b[1;33m\u001b[0m\u001b[0m\n",
      "\u001b[1;31mModuleNotFoundError\u001b[0m: No module named 'mod'"
     ]
    }
   ],
   "metadata": {}
  },
  {
   "cell_type": "code",
   "execution_count": null,
   "source": [],
   "outputs": [],
   "metadata": {}
  }
 ],
 "metadata": {
  "orig_nbformat": 4,
  "language_info": {
   "name": "python",
   "version": "3.8.5",
   "mimetype": "text/x-python",
   "codemirror_mode": {
    "name": "ipython",
    "version": 3
   },
   "pygments_lexer": "ipython3",
   "nbconvert_exporter": "python",
   "file_extension": ".py"
  },
  "kernelspec": {
   "name": "python3",
   "display_name": "Python 3.8.5 64-bit ('base': conda)"
  },
  "interpreter": {
   "hash": "e9a8cbe108339b3e607c1d1284bcb36d094c42c8cafb0877055799471693e25e"
  }
 },
 "nbformat": 4,
 "nbformat_minor": 2
}