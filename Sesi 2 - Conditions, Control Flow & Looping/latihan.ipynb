{
 "cells": [
  {
   "cell_type": "markdown",
   "source": [
    "# Latihan 1"
   ],
   "metadata": {}
  },
  {
   "cell_type": "code",
   "execution_count": 1,
   "source": [
    "panjang = 5\r\n",
    "lebar = 10\r\n",
    "keliling_segiempat = 2*(panjang + lebar)\r\n",
    "luas_segiempat = panjang * lebar\r\n",
    "print(\"Panjang segi empat = \", panjang)\r\n",
    "print(\"Lebar segi empat = \", lebar)\r\n",
    "print(\"Keliling segi empat = \", keliling_segiempat)\r\n",
    "print(\"Luas segi empat = \", luas_segiempat)"
   ],
   "outputs": [
    {
     "output_type": "stream",
     "name": "stdout",
     "text": [
      "Panjang segi empat =  5\n",
      "Lebar segi empat =  10\n",
      "Keliling segi empat =  30\n",
      "Luas segi empat =  50\n"
     ]
    }
   ],
   "metadata": {}
  },
  {
   "cell_type": "markdown",
   "source": [
    "# Latihan 2"
   ],
   "metadata": {}
  },
  {
   "cell_type": "code",
   "execution_count": 3,
   "source": [
    "panjang = int(input(\"Masukkan variabel panjang: \"))\r\n",
    "lebar = int(input(\"Masukkan variabel lebar: \"))\r\n",
    "keliling_segiempat = 2*panjang + 2*lebar\r\n",
    "luas_segiempat = panjang * lebar\r\n",
    "print(\"Panjang segi empat = \", panjang)\r\n",
    "print(\"Lebar segi empat = \", lebar)\r\n",
    "print(\"Keliling segi empat = \", keliling_segiempat)\r\n",
    "print(\"Luas segi empat = \", luas_segiempat)"
   ],
   "outputs": [
    {
     "output_type": "stream",
     "name": "stdout",
     "text": [
      "Panjang segi empat =  5\n",
      "Lebar segi empat =  10\n",
      "Keliling segi empat =  30\n",
      "Luas segi empat =  50\n"
     ]
    }
   ],
   "metadata": {}
  },
  {
   "cell_type": "markdown",
   "source": [
    "# Latihan 3"
   ],
   "metadata": {}
  },
  {
   "cell_type": "code",
   "execution_count": 5,
   "source": [
    "alas = input(\"Masukkan variabel alas: \")\r\n",
    "tinggi = input(\"Masukkan variabel tinggi: \")\r\n",
    "luas_segitiga = 1/2*int(alas)*int(tinggi)\r\n",
    "print(\"Alas segi tiga = \", alas)\r\n",
    "print(\"Tinggi segi tiga = \", tinggi)\r\n",
    "print(\"Luas segi tiga = \", luas_segitiga)"
   ],
   "outputs": [
    {
     "output_type": "stream",
     "name": "stdout",
     "text": [
      "Alas segi tiga =  5\n",
      "Tinggi segi tiga =  10\n",
      "Luas segi tiga =  25.0\n"
     ]
    }
   ],
   "metadata": {}
  },
  {
   "cell_type": "markdown",
   "source": [
    "# Latihan 4"
   ],
   "metadata": {}
  },
  {
   "cell_type": "code",
   "execution_count": 41,
   "source": [
    "print(\"1. Segiempat\")\r\n",
    "print(\"2. Segitiga\")\r\n",
    "print(\"3. Persegi\")\r\n",
    "print(\"4. Lingkaran\")\r\n",
    "\r\n",
    "pilihan = int(input(\"Masukkan pilihan Anda (1, 2, 3, 4): \"))\r\n",
    "\r\n",
    "if pilihan == 1:\r\n",
    "    panjang = input(\"Masukkan variabel panjang: \")\r\n",
    "    lebar = input(\"Masukkan variabel lebar: \")\r\n",
    "    keliling_segiempat = 2*int(panjang) + 2*int(lebar)\r\n",
    "    luas_segiempat = int(panjang) * int(lebar)\r\n",
    "    print(\"Panjang segi empat = \", panjang)\r\n",
    "    print(\"Lebar segi empat = \", lebar)\r\n",
    "    print(\"Keliling segi empat = \", keliling_segiempat)\r\n",
    "    print(\"Luas segi empat = \", luas_segiempat)\r\n",
    "\r\n",
    "elif pilihan == 2:\r\n",
    "    alas = input(\"Masukkan variabel alas: \")\r\n",
    "    tinggi = input(\"Masukkan variabel tinggi: \")\r\n",
    "    luas_segitiga = 1/2*int(alas)*int(tinggi)\r\n",
    "    print(\"Alas segi tiga = \", alas)\r\n",
    "    print(\"Tinggi segi tiga = \", tinggi)\r\n",
    "    print(\"Luas segi tiga = \", luas_segitiga)\r\n",
    "\r\n",
    "elif pilihan == 3:\r\n",
    "    sisi = input(\"Masukkan variabel sisi: \")\r\n",
    "    keliling_persegi = 4*int(sisi)\r\n",
    "    luas_persegi = int(sisi)*int(sisi)\r\n",
    "    print(\"Sisi persegi = \", sisi)\r\n",
    "    print(\"Keliling persegi = \", keliling_persegi)\r\n",
    "    print(\"Luas persegi = \", luas_persegi)\r\n",
    "\r\n",
    "elif pilihan == 4:\r\n",
    "    jari_jari = input(\"Masukkan variabel jari-jari: \")\r\n",
    "    keliling_lingkaran = 2*(22/7)*float(jari_jari)\r\n",
    "    luas_lingkaran = (22/7)*float(jari_jari)*float(jari_jari)\r\n",
    "    print(\"Jari-jari lingkaran = \", jari_jari)\r\n",
    "    print(\"Keliling lingkaran = \", keliling_lingkaran)\r\n",
    "    print(\"Luas lingkaran = \", luas_lingkaran)\r\n",
    "\r\n",
    "else:\r\n",
    "    print(\"Pilihan Anda tidak tersedia\")"
   ],
   "outputs": [
    {
     "output_type": "stream",
     "name": "stdout",
     "text": [
      "1. Segiempat\n",
      "2. Segitiga\n",
      "3. Persegi\n",
      "4. Lingkaran\n",
      "Jari-jari lingkaran =  2\n",
      "Keliling lingkaran =  12.571428571428571\n",
      "Luas lingkaran =  12.571428571428571\n"
     ]
    }
   ],
   "metadata": {}
  },
  {
   "cell_type": "markdown",
   "source": [
    "# Latihan 5"
   ],
   "metadata": {}
  },
  {
   "cell_type": "code",
   "execution_count": 48,
   "source": [
    "print(\"1. Segiempat\")\r\n",
    "print(\"2. Segitiga\")\r\n",
    "print(\"3. Persegi\")\r\n",
    "print(\"4. Lingkaran\")\r\n",
    "\r\n",
    "ulang = \"Y\"\r\n",
    "    \r\n",
    "while ulang == \"Y\" or ulang == \"y\":\r\n",
    "    pilihan = int(input(\"Masukkan pilihan Anda (1, 2, 3, 4): \"))\r\n",
    "\r\n",
    "    if pilihan == 1:\r\n",
    "        panjang = input(\"Masukkan variabel panjang: \")\r\n",
    "        lebar = input(\"Masukkan variabel lebar: \")\r\n",
    "        keliling_segiempat = 2*int(panjang) + 2*int(lebar)\r\n",
    "        luas_segiempat = int(panjang) * int(lebar)\r\n",
    "        print(\"Panjang segi empat = \", panjang)\r\n",
    "        print(\"Lebar segi empat = \", lebar)\r\n",
    "        print(\"Keliling segi empat = \", keliling_segiempat)\r\n",
    "        print(\"Luas segi empat = \", luas_segiempat)\r\n",
    "    \r\n",
    "    elif pilihan == 2:\r\n",
    "        alas = input(\"Masukkan variabel alas: \")\r\n",
    "        tinggi = input(\"Masukkan variabel tinggi: \")\r\n",
    "        luas_segitiga = 1/2*int(alas)*int(tinggi)\r\n",
    "        print(\"Alas segi tiga = \", alas)\r\n",
    "        print(\"Tinggi segi tiga = \", tinggi)\r\n",
    "        print(\"Luas segi tiga = \", luas_segitiga)\r\n",
    "    \r\n",
    "    elif pilihan == 3:\r\n",
    "        sisi = input(\"Masukkan variabel sisi: \")\r\n",
    "        keliling_persegi = 4*int(sisi)\r\n",
    "        luas_persegi = int(sisi)*int(sisi)\r\n",
    "        print(\"Sisi persegi = \", sisi)\r\n",
    "        print(\"Keliling persegi = \", keliling_persegi)\r\n",
    "        print(\"Luas persegi = \", luas_persegi)\r\n",
    "    \r\n",
    "    elif pilihan == 4:\r\n",
    "        jari_jari = input(\"Masukkan variabel jari-jari: \")\r\n",
    "        keliling_lingkaran = 2*(22/7)*float(jari_jari)\r\n",
    "        luas_lingkaran = (22/7)*float(jari_jari)*float(jari_jari)\r\n",
    "        print(\"Jari-jari lingkaran = \", jari_jari)\r\n",
    "        print(\"Keliling lingkaran = \", keliling_lingkaran)\r\n",
    "        print(\"Luas lingkaran = \", luas_lingkaran)\r\n",
    "    \r\n",
    "    else:\r\n",
    "        print(\"Pilihan Anda tidak tersedia\")\r\n",
    "\r\n",
    "    ulang = input(\"Apakah Anda ingin mengulang? (Y/N): \")\r\n",
    "\r\n",
    "else:\r\n",
    "    print(\"Program selesai\")"
   ],
   "outputs": [
    {
     "output_type": "stream",
     "name": "stdout",
     "text": [
      "1. Segiempat\n",
      "2. Segitiga\n",
      "3. Persegi\n",
      "4. Lingkaran\n",
      "Sisi persegi =  4\n",
      "Keliling persegi =  16\n",
      "Luas persegi =  16\n",
      "Jari-jari lingkaran =  2\n",
      "Keliling lingkaran =  12.571428571428571\n",
      "Luas lingkaran =  12.571428571428571\n",
      "Program selesai\n"
     ]
    }
   ],
   "metadata": {}
  }
 ],
 "metadata": {
  "orig_nbformat": 4,
  "language_info": {
   "name": "python",
   "version": "3.8.5",
   "mimetype": "text/x-python",
   "codemirror_mode": {
    "name": "ipython",
    "version": 3
   },
   "pygments_lexer": "ipython3",
   "nbconvert_exporter": "python",
   "file_extension": ".py"
  },
  "kernelspec": {
   "name": "python3",
   "display_name": "Python 3.8.5 64-bit ('base': conda)"
  },
  "interpreter": {
   "hash": "e9a8cbe108339b3e607c1d1284bcb36d094c42c8cafb0877055799471693e25e"
  }
 },
 "nbformat": 4,
 "nbformat_minor": 2
}