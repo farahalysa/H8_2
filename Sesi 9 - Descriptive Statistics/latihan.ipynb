{
 "cells": [
  {
   "cell_type": "markdown",
   "source": [
    "# Latihan 1"
   ],
   "metadata": {}
  },
  {
   "cell_type": "code",
   "execution_count": 1,
   "source": [
    "import numpy as np\r\n",
    "import pandas as pd\r\n",
    "import xlrd"
   ],
   "outputs": [],
   "metadata": {}
  },
  {
   "cell_type": "code",
   "execution_count": 2,
   "source": [
    "df_can = pd.read_excel('https://github.com/ardhiraka/PFDS_sources/blob/master/Canada.xlsx?raw=true',\r\n",
    "                       sheet_name='Canada by Citizenship',\r\n",
    "                       skiprows=20,\r\n",
    "                       skipfooter=2)\r\n",
    "\r\n",
    "print (df_can.head())"
   ],
   "outputs": [
    {
     "output_type": "stream",
     "name": "stdout",
     "text": [
      "         Type    Coverage          OdName  AREA AreaName   REG  \\\n",
      "0  Immigrants  Foreigners     Afghanistan   935     Asia  5501   \n",
      "1  Immigrants  Foreigners         Albania   908   Europe   925   \n",
      "2  Immigrants  Foreigners         Algeria   903   Africa   912   \n",
      "3  Immigrants  Foreigners  American Samoa   909  Oceania   957   \n",
      "4  Immigrants  Foreigners         Andorra   908   Europe   925   \n",
      "\n",
      "           RegName  DEV             DevName  1980  ...  2004  2005  2006  \\\n",
      "0    Southern Asia  902  Developing regions    16  ...  2978  3436  3009   \n",
      "1  Southern Europe  901   Developed regions     1  ...  1450  1223   856   \n",
      "2  Northern Africa  902  Developing regions    80  ...  3616  3626  4807   \n",
      "3        Polynesia  902  Developing regions     0  ...     0     0     1   \n",
      "4  Southern Europe  901   Developed regions     0  ...     0     0     1   \n",
      "\n",
      "   2007  2008  2009  2010  2011  2012  2013  \n",
      "0  2652  2111  1746  1758  2203  2635  2004  \n",
      "1   702   560   716   561   539   620   603  \n",
      "2  3623  4005  5393  4752  4325  3774  4331  \n",
      "3     0     0     0     0     0     0     0  \n",
      "4     1     0     0     0     0     1     1  \n",
      "\n",
      "[5 rows x 43 columns]\n"
     ]
    }
   ],
   "metadata": {}
  },
  {
   "cell_type": "code",
   "execution_count": 3,
   "source": [
    "print(df_can.tail())"
   ],
   "outputs": [
    {
     "output_type": "stream",
     "name": "stdout",
     "text": [
      "           Type    Coverage          OdName  AREA AreaName  REG  \\\n",
      "190  Immigrants  Foreigners        Viet Nam   935     Asia  920   \n",
      "191  Immigrants  Foreigners  Western Sahara   903   Africa  912   \n",
      "192  Immigrants  Foreigners           Yemen   935     Asia  922   \n",
      "193  Immigrants  Foreigners          Zambia   903   Africa  910   \n",
      "194  Immigrants  Foreigners        Zimbabwe   903   Africa  910   \n",
      "\n",
      "                RegName  DEV             DevName  1980  ...  2004  2005  2006  \\\n",
      "190  South-Eastern Asia  902  Developing regions  1191  ...  1816  1852  3153   \n",
      "191     Northern Africa  902  Developing regions     0  ...     0     0     1   \n",
      "192        Western Asia  902  Developing regions     1  ...   124   161   140   \n",
      "193      Eastern Africa  902  Developing regions    11  ...    56    91    77   \n",
      "194      Eastern Africa  902  Developing regions    72  ...  1450   615   454   \n",
      "\n",
      "     2007  2008  2009  2010  2011  2012  2013  \n",
      "190  2574  1784  2171  1942  1723  1731  2112  \n",
      "191     0     0     0     0     0     0     0  \n",
      "192   122   133   128   211   160   174   217  \n",
      "193    71    64    60   102    69    46    59  \n",
      "194   663   611   508   494   434   437   407  \n",
      "\n",
      "[5 rows x 43 columns]\n"
     ]
    }
   ],
   "metadata": {}
  },
  {
   "cell_type": "code",
   "execution_count": 4,
   "source": [
    "print(df_can.columns.values)"
   ],
   "outputs": [
    {
     "output_type": "stream",
     "name": "stdout",
     "text": [
      "['Type' 'Coverage' 'OdName' 'AREA' 'AreaName' 'REG' 'RegName' 'DEV'\n",
      " 'DevName' 1980 1981 1982 1983 1984 1985 1986 1987 1988 1989 1990 1991\n",
      " 1992 1993 1994 1995 1996 1997 1998 1999 2000 2001 2002 2003 2004 2005\n",
      " 2006 2007 2008 2009 2010 2011 2012 2013]\n"
     ]
    }
   ],
   "metadata": {}
  },
  {
   "cell_type": "code",
   "execution_count": 5,
   "source": [
    "print(df_can.index.values)"
   ],
   "outputs": [
    {
     "output_type": "stream",
     "name": "stdout",
     "text": [
      "[  0   1   2   3   4   5   6   7   8   9  10  11  12  13  14  15  16  17\n",
      "  18  19  20  21  22  23  24  25  26  27  28  29  30  31  32  33  34  35\n",
      "  36  37  38  39  40  41  42  43  44  45  46  47  48  49  50  51  52  53\n",
      "  54  55  56  57  58  59  60  61  62  63  64  65  66  67  68  69  70  71\n",
      "  72  73  74  75  76  77  78  79  80  81  82  83  84  85  86  87  88  89\n",
      "  90  91  92  93  94  95  96  97  98  99 100 101 102 103 104 105 106 107\n",
      " 108 109 110 111 112 113 114 115 116 117 118 119 120 121 122 123 124 125\n",
      " 126 127 128 129 130 131 132 133 134 135 136 137 138 139 140 141 142 143\n",
      " 144 145 146 147 148 149 150 151 152 153 154 155 156 157 158 159 160 161\n",
      " 162 163 164 165 166 167 168 169 170 171 172 173 174 175 176 177 178 179\n",
      " 180 181 182 183 184 185 186 187 188 189 190 191 192 193 194]\n"
     ]
    }
   ],
   "metadata": {}
  },
  {
   "cell_type": "code",
   "execution_count": 6,
   "source": [
    "df_can.shape   "
   ],
   "outputs": [
    {
     "output_type": "execute_result",
     "data": {
      "text/plain": [
       "(195, 43)"
      ]
     },
     "metadata": {},
     "execution_count": 6
    }
   ],
   "metadata": {}
  },
  {
   "cell_type": "code",
   "execution_count": 7,
   "source": [
    "df_can.drop(['AREA','REG','DEV','Type','Coverage'], axis=1, inplace=True)\r\n",
    "print(df_can.head(2))"
   ],
   "outputs": [
    {
     "output_type": "stream",
     "name": "stdout",
     "text": [
      "        OdName AreaName          RegName             DevName  1980  1981  \\\n",
      "0  Afghanistan     Asia    Southern Asia  Developing regions    16    39   \n",
      "1      Albania   Europe  Southern Europe   Developed regions     1     0   \n",
      "\n",
      "   1982  1983  1984  1985  ...  2004  2005  2006  2007  2008  2009  2010  \\\n",
      "0    39    47    71   340  ...  2978  3436  3009  2652  2111  1746  1758   \n",
      "1     0     0     0     0  ...  1450  1223   856   702   560   716   561   \n",
      "\n",
      "   2011  2012  2013  \n",
      "0  2203  2635  2004  \n",
      "1   539   620   603  \n",
      "\n",
      "[2 rows x 38 columns]\n"
     ]
    }
   ],
   "metadata": {}
  },
  {
   "cell_type": "code",
   "execution_count": 8,
   "source": [
    "df_can.rename(columns={'OdName':'Country', 'AreaName':'Continent', 'RegName':'Region'}, inplace=True)\r\n",
    "df_can.columns"
   ],
   "outputs": [
    {
     "output_type": "execute_result",
     "data": {
      "text/plain": [
       "Index([  'Country', 'Continent',    'Region',   'DevName',        1980,\n",
       "              1981,        1982,        1983,        1984,        1985,\n",
       "              1986,        1987,        1988,        1989,        1990,\n",
       "              1991,        1992,        1993,        1994,        1995,\n",
       "              1996,        1997,        1998,        1999,        2000,\n",
       "              2001,        2002,        2003,        2004,        2005,\n",
       "              2006,        2007,        2008,        2009,        2010,\n",
       "              2011,        2012,        2013],\n",
       "      dtype='object')"
      ]
     },
     "metadata": {},
     "execution_count": 8
    }
   ],
   "metadata": {}
  },
  {
   "cell_type": "code",
   "execution_count": 9,
   "source": [
    "print(df_can.head(2))"
   ],
   "outputs": [
    {
     "output_type": "stream",
     "name": "stdout",
     "text": [
      "       Country Continent           Region             DevName  1980  1981  \\\n",
      "0  Afghanistan      Asia    Southern Asia  Developing regions    16    39   \n",
      "1      Albania    Europe  Southern Europe   Developed regions     1     0   \n",
      "\n",
      "   1982  1983  1984  1985  ...  2004  2005  2006  2007  2008  2009  2010  \\\n",
      "0    39    47    71   340  ...  2978  3436  3009  2652  2111  1746  1758   \n",
      "1     0     0     0     0  ...  1450  1223   856   702   560   716   561   \n",
      "\n",
      "   2011  2012  2013  \n",
      "0  2203  2635  2004  \n",
      "1   539   620   603  \n",
      "\n",
      "[2 rows x 38 columns]\n"
     ]
    }
   ],
   "metadata": {}
  },
  {
   "cell_type": "code",
   "execution_count": 11,
   "source": [
    "ex = df_can.head\r\n",
    "print(ex)"
   ],
   "outputs": [
    {
     "output_type": "stream",
     "name": "stdout",
     "text": [
      "<bound method NDFrame.head of             Country Continent              Region             DevName  1980  \\\n",
      "0       Afghanistan      Asia       Southern Asia  Developing regions    16   \n",
      "1           Albania    Europe     Southern Europe   Developed regions     1   \n",
      "2           Algeria    Africa     Northern Africa  Developing regions    80   \n",
      "3    American Samoa   Oceania           Polynesia  Developing regions     0   \n",
      "4           Andorra    Europe     Southern Europe   Developed regions     0   \n",
      "..              ...       ...                 ...                 ...   ...   \n",
      "190        Viet Nam      Asia  South-Eastern Asia  Developing regions  1191   \n",
      "191  Western Sahara    Africa     Northern Africa  Developing regions     0   \n",
      "192           Yemen      Asia        Western Asia  Developing regions     1   \n",
      "193          Zambia    Africa      Eastern Africa  Developing regions    11   \n",
      "194        Zimbabwe    Africa      Eastern Africa  Developing regions    72   \n",
      "\n",
      "     1981  1982  1983  1984  1985  ...  2004  2005  2006  2007  2008  2009  \\\n",
      "0      39    39    47    71   340  ...  2978  3436  3009  2652  2111  1746   \n",
      "1       0     0     0     0     0  ...  1450  1223   856   702   560   716   \n",
      "2      67    71    69    63    44  ...  3616  3626  4807  3623  4005  5393   \n",
      "3       1     0     0     0     0  ...     0     0     1     0     0     0   \n",
      "4       0     0     0     0     0  ...     0     0     1     1     0     0   \n",
      "..    ...   ...   ...   ...   ...  ...   ...   ...   ...   ...   ...   ...   \n",
      "190  1829  2162  3404  7583  5907  ...  1816  1852  3153  2574  1784  2171   \n",
      "191     0     0     0     0     0  ...     0     0     1     0     0     0   \n",
      "192     2     1     6     0    18  ...   124   161   140   122   133   128   \n",
      "193    17    11     7    16     9  ...    56    91    77    71    64    60   \n",
      "194   114   102    44    32    29  ...  1450   615   454   663   611   508   \n",
      "\n",
      "     2010  2011  2012  2013  \n",
      "0    1758  2203  2635  2004  \n",
      "1     561   539   620   603  \n",
      "2    4752  4325  3774  4331  \n",
      "3       0     0     0     0  \n",
      "4       0     0     1     1  \n",
      "..    ...   ...   ...   ...  \n",
      "190  1942  1723  1731  2112  \n",
      "191     0     0     0     0  \n",
      "192   211   160   174   217  \n",
      "193   102    69    46    59  \n",
      "194   494   434   437   407  \n",
      "\n",
      "[195 rows x 38 columns]>\n"
     ]
    }
   ],
   "metadata": {}
  },
  {
   "cell_type": "code",
   "execution_count": 12,
   "source": [
    "ex = df_can.Country\r\n",
    "print(ex)"
   ],
   "outputs": [
    {
     "output_type": "stream",
     "name": "stdout",
     "text": [
      "0         Afghanistan\n",
      "1             Albania\n",
      "2             Algeria\n",
      "3      American Samoa\n",
      "4             Andorra\n",
      "            ...      \n",
      "190          Viet Nam\n",
      "191    Western Sahara\n",
      "192             Yemen\n",
      "193            Zambia\n",
      "194          Zimbabwe\n",
      "Name: Country, Length: 195, dtype: object\n"
     ]
    }
   ],
   "metadata": {}
  },
  {
   "cell_type": "code",
   "execution_count": 13,
   "source": [
    "ex = df_can[['Country', 1980, 1981, 1982, 1983]]\r\n",
    "print(ex)"
   ],
   "outputs": [
    {
     "output_type": "stream",
     "name": "stdout",
     "text": [
      "            Country  1980  1981  1982  1983\n",
      "0       Afghanistan    16    39    39    47\n",
      "1           Albania     1     0     0     0\n",
      "2           Algeria    80    67    71    69\n",
      "3    American Samoa     0     1     0     0\n",
      "4           Andorra     0     0     0     0\n",
      "..              ...   ...   ...   ...   ...\n",
      "190        Viet Nam  1191  1829  2162  3404\n",
      "191  Western Sahara     0     0     0     0\n",
      "192           Yemen     1     2     1     6\n",
      "193          Zambia    11    17    11     7\n",
      "194        Zimbabwe    72   114   102    44\n",
      "\n",
      "[195 rows x 5 columns]\n"
     ]
    }
   ],
   "metadata": {}
  },
  {
   "cell_type": "markdown",
   "source": [
    "# Latihan 2"
   ],
   "metadata": {}
  },
  {
   "cell_type": "code",
   "execution_count": 14,
   "source": [
    "ex = df_can[\"Continent\"] == \"Europe\""
   ],
   "outputs": [],
   "metadata": {}
  },
  {
   "cell_type": "code",
   "execution_count": 18,
   "source": [
    "years = list(map(str, range(1980, 2014)))\r\n",
    "haiti = df_can.iloc[75, [3,4,5,6,7,8,9,10]]\r\n",
    "print(haiti.head(8))"
   ],
   "outputs": [
    {
     "output_type": "stream",
     "name": "stdout",
     "text": [
      "DevName    Developing regions\n",
      "1980                     1666\n",
      "1981                     3692\n",
      "1982                     3498\n",
      "1983                     2860\n",
      "1984                     1418\n",
      "1985                     1321\n",
      "1986                     1753\n",
      "Name: 75, dtype: object\n"
     ]
    }
   ],
   "metadata": {}
  },
  {
   "cell_type": "code",
   "execution_count": 21,
   "source": [
    "df_can.set_index('Country', inplace = True)"
   ],
   "outputs": [],
   "metadata": {}
  },
  {
   "cell_type": "code",
   "execution_count": 22,
   "source": [
    "haiti = df_can.loc['Haiti', range(1980, 2013)]\r\n",
    "haiti.plot()"
   ],
   "outputs": [
    {
     "output_type": "execute_result",
     "data": {
      "text/plain": [
       "<AxesSubplot:>"
      ]
     },
     "metadata": {},
     "execution_count": 22
    },
    {
     "output_type": "display_data",
     "data": {
      "image/png": "[encoded data removed]",
      "text/plain": [
       "<Figure size 432x288 with 1 Axes>"
      ]
     },
     "metadata": {
      "needs_background": "light"
     }
    }
   ],
   "metadata": {}
  },
  {
   "cell_type": "code",
   "execution_count": 24,
   "source": [
    "%matplotlib inline \r\n",
    "\r\n",
    "import matplotlib as mpl\r\n",
    "import matplotlib.pyplot as plt"
   ],
   "outputs": [],
   "metadata": {}
  },
  {
   "cell_type": "code",
   "execution_count": 27,
   "source": [
    "haiti = df_can.loc['Haiti', range(1980, 2013)]\r\n",
    "\r\n",
    "haiti.plot()\r\n",
    "plt.title('Immigration from Haiti')\r\n",
    "plt.ylabel('Number of immigrants')\r\n",
    "plt.xlabel('Years')\r\n",
    "plt.text(2000,6000,'2010 eartquake')\r\n",
    "\r\n",
    "plt.show()"
   ],
   "outputs": [
    {
     "output_type": "display_data",
     "data": {
      "image/png": "[encoded data removed]",
      "text/plain": [
       "<Figure size 432x288 with 1 Axes>"
      ]
     },
     "metadata": {
      "needs_background": "light"
     }
    }
   ],
   "metadata": {}
  },
  {
   "cell_type": "code",
   "execution_count": 28,
   "source": [
    "China_India = df_can.loc[['China', 'India'], range(1980, 2013)]\r\n",
    "df_CI = China_India.transpose()\r\n",
    "print(df_CI)\r\n",
    "\r\n",
    "df_CI.plot(kind = 'line')\r\n",
    "plt.title('Immigration from Haiti')\r\n",
    "plt.ylabel('Number of immigrants')\r\n",
    "plt.xlabel('Years')\r\n",
    "plt.show()"
   ],
   "outputs": [
    {
     "output_type": "stream",
     "name": "stdout",
     "text": [
      "Country  China  India\n",
      "1980      5123   8880\n",
      "1981      6682   8670\n",
      "1982      3308   8147\n",
      "1983      1863   7338\n",
      "1984      1527   5704\n",
      "1985      1816   4211\n",
      "1986      1960   7150\n",
      "1987      2643  10189\n",
      "1988      2758  11522\n",
      "1989      4323  10343\n",
      "1990      8076  12041\n",
      "1991     14255  13734\n",
      "1992     10846  13673\n",
      "1993      9817  21496\n",
      "1994     13128  18620\n",
      "1995     14398  18489\n",
      "1996     19415  23859\n",
      "1997     20475  22268\n",
      "1998     21049  17241\n",
      "1999     30069  18974\n",
      "2000     35529  28572\n",
      "2001     36434  31223\n",
      "2002     31961  31889\n",
      "2003     36439  27155\n",
      "2004     36619  28235\n",
      "2005     42584  36210\n",
      "2006     33518  33848\n",
      "2007     27642  28742\n",
      "2008     30037  28261\n",
      "2009     29622  29456\n",
      "2010     30391  34235\n",
      "2011     28502  27509\n",
      "2012     33024  30933\n"
     ]
    },
    {
     "output_type": "display_data",
     "data": {
      "image/png": "[encoded data removed]",
      "text/plain": [
       "<Figure size 432x288 with 1 Axes>"
      ]
     },
     "metadata": {
      "needs_background": "light"
     }
    }
   ],
   "metadata": {}
  },
  {
   "cell_type": "code",
   "execution_count": null,
   "source": [],
   "outputs": [],
   "metadata": {}
  }
 ],
 "metadata": {
  "orig_nbformat": 4,
  "language_info": {
   "name": "python",
   "version": "3.8.5",
   "mimetype": "text/x-python",
   "codemirror_mode": {
    "name": "ipython",
    "version": 3
   },
   "pygments_lexer": "ipython3",
   "nbconvert_exporter": "python",
   "file_extension": ".py"
  },
  "kernelspec": {
   "name": "python3",
   "display_name": "Python 3.8.5 64-bit ('base': conda)"
  },
  "interpreter": {
   "hash": "e9a8cbe108339b3e607c1d1284bcb36d094c42c8cafb0877055799471693e25e"
  }
 },
 "nbformat": 4,
 "nbformat_minor": 2
}