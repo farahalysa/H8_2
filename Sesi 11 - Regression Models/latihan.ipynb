{
 "cells": [
  {
   "cell_type": "markdown",
   "source": [
    "# Latihan 1"
   ],
   "metadata": {}
  },
  {
   "cell_type": "code",
   "execution_count": 68,
   "source": [
    "%matplotlib inline\r\n",
    "\r\n",
    "import matplotlib as mpl\r\n",
    "import matplotlib.pyplot as plt\r\n",
    "import matplotlib.patches as mpatches\r\n",
    "\r\n",
    "mpl.style.use('ggplot')"
   ],
   "outputs": [],
   "metadata": {}
  },
  {
   "cell_type": "code",
   "execution_count": 3,
   "source": [
    "import numpy as np \r\n",
    "import pandas as pd \r\n",
    "from PIL import Image "
   ],
   "outputs": [],
   "metadata": {}
  },
  {
   "cell_type": "code",
   "execution_count": 33,
   "source": [
    "df_can = pd.read_excel('D:\\STATISTIKA\\BISMILLAH\\KM\\SI\\Hacktiv8\\Sesi 8 - Advanced Visualization\\Canada.xlsx',\r\n",
    "                       sheet_name='Canada by Citizenship',\r\n",
    "                       skiprows=20,\r\n",
    "                       skipfooter=2)"
   ],
   "outputs": [],
   "metadata": {}
  },
  {
   "cell_type": "code",
   "execution_count": 34,
   "source": [
    "df_can.drop(['AREA','REG','DEV','Type','Coverage'], axis = 1, inplace = True)\r\n",
    "df_can.rename (columns = {'OdName':'Country', 'AreaName':'Continent','RegName':'Region'}, inplace = True)\r\n",
    "df_can.columns = list(map(str, df_can.columns))\r\n",
    "df_can.set_index('Country', inplace = True)\r\n",
    "df_can['Total'] =  df_can.sum (axis = 1)\r\n",
    "years = list(map(str, range(1980, 2014)))\r\n",
    "\r\n",
    "df_dsn = df_can.loc[['Denmark', 'Norway', 'Sweden'], :]\r\n",
    "total_values = sum(df_dsn['Total'])\r\n",
    "category_proportions = [(float(value) / total_values) for value in df_dsn['Total']]"
   ],
   "outputs": [],
   "metadata": {}
  },
  {
   "cell_type": "code",
   "execution_count": 35,
   "source": [
    "for i, proportion in enumerate(category_proportions):\r\n",
    "    print (df_dsn.index.values[i] + ': ' + str(proportion))"
   ],
   "outputs": [
    {
     "output_type": "stream",
     "name": "stdout",
     "text": [
      "Denmark: 0.32255663965602777\n",
      "Norway: 0.1924094592359848\n",
      "Sweden: 0.48503390110798744\n"
     ]
    }
   ],
   "metadata": {}
  },
  {
   "cell_type": "code",
   "execution_count": 36,
   "source": [
    "width = 40 \r\n",
    "height = 10 \r\n",
    "total_num_tile = width * height \r\n",
    "\r\n",
    "print ('Number total tile: ', total_num_tile)"
   ],
   "outputs": [
    {
     "output_type": "stream",
     "name": "stdout",
     "text": [
      "Number total tile:  400\n"
     ]
    }
   ],
   "metadata": {}
  },
  {
   "cell_type": "code",
   "execution_count": 37,
   "source": [
    "tiles_per_category = [round(proportion * total_num_tile) for proportion in category_proportions]\r\n",
    "\r\n",
    "\r\n",
    "for i, tiles in enumerate(tiles_per_category):\r\n",
    "    print (df_dsn.index.values[i] + ': ' + str(tiles))"
   ],
   "outputs": [
    {
     "output_type": "stream",
     "name": "stdout",
     "text": [
      "Denmark: 129\n",
      "Norway: 77\n",
      "Sweden: 194\n"
     ]
    }
   ],
   "metadata": {}
  },
  {
   "cell_type": "code",
   "execution_count": 38,
   "source": [
    "waffle_chart = np.zeros((height, width))\r\n",
    "\r\n",
    "category_index = 0\r\n",
    "tile_index = 0\r\n",
    "\r\n",
    "for col in range(width):\r\n",
    "    for row in range(height):\r\n",
    "        tile_index += 1\r\n",
    "\r\n",
    "        if tile_index > sum(tiles_per_category[0:category_index]):\r\n",
    "            category_index += 1       \r\n",
    "            \r\n",
    "        waffle_chart[row, col] = category_index\r\n",
    "        \r\n",
    "print ('Waffle chart populated!')"
   ],
   "outputs": [
    {
     "output_type": "stream",
     "name": "stdout",
     "text": [
      "Waffle chart populated!\n"
     ]
    }
   ],
   "metadata": {}
  },
  {
   "cell_type": "code",
   "execution_count": 39,
   "source": [
    "waffle_chart"
   ],
   "outputs": [
    {
     "output_type": "execute_result",
     "data": {
      "text/plain": [
       "array([[1., 1., 1., 1., 1., 1., 1., 1., 1., 1., 1., 1., 1., 2., 2., 2.,\n",
       "        2., 2., 2., 2., 2., 3., 3., 3., 3., 3., 3., 3., 3., 3., 3., 3.,\n",
       "        3., 3., 3., 3., 3., 3., 3., 3.],\n",
       "       [1., 1., 1., 1., 1., 1., 1., 1., 1., 1., 1., 1., 1., 2., 2., 2.,\n",
       "        2., 2., 2., 2., 2., 3., 3., 3., 3., 3., 3., 3., 3., 3., 3., 3.,\n",
       "        3., 3., 3., 3., 3., 3., 3., 3.],\n",
       "       [1., 1., 1., 1., 1., 1., 1., 1., 1., 1., 1., 1., 1., 2., 2., 2.,\n",
       "        2., 2., 2., 2., 2., 3., 3., 3., 3., 3., 3., 3., 3., 3., 3., 3.,\n",
       "        3., 3., 3., 3., 3., 3., 3., 3.],\n",
       "       [1., 1., 1., 1., 1., 1., 1., 1., 1., 1., 1., 1., 1., 2., 2., 2.,\n",
       "        2., 2., 2., 2., 2., 3., 3., 3., 3., 3., 3., 3., 3., 3., 3., 3.,\n",
       "        3., 3., 3., 3., 3., 3., 3., 3.],\n",
       "       [1., 1., 1., 1., 1., 1., 1., 1., 1., 1., 1., 1., 1., 2., 2., 2.,\n",
       "        2., 2., 2., 2., 2., 3., 3., 3., 3., 3., 3., 3., 3., 3., 3., 3.,\n",
       "        3., 3., 3., 3., 3., 3., 3., 3.],\n",
       "       [1., 1., 1., 1., 1., 1., 1., 1., 1., 1., 1., 1., 1., 2., 2., 2.,\n",
       "        2., 2., 2., 2., 2., 3., 3., 3., 3., 3., 3., 3., 3., 3., 3., 3.,\n",
       "        3., 3., 3., 3., 3., 3., 3., 3.],\n",
       "       [1., 1., 1., 1., 1., 1., 1., 1., 1., 1., 1., 1., 1., 2., 2., 2.,\n",
       "        2., 2., 2., 2., 3., 3., 3., 3., 3., 3., 3., 3., 3., 3., 3., 3.,\n",
       "        3., 3., 3., 3., 3., 3., 3., 3.],\n",
       "       [1., 1., 1., 1., 1., 1., 1., 1., 1., 1., 1., 1., 1., 2., 2., 2.,\n",
       "        2., 2., 2., 2., 3., 3., 3., 3., 3., 3., 3., 3., 3., 3., 3., 3.,\n",
       "        3., 3., 3., 3., 3., 3., 3., 3.],\n",
       "       [1., 1., 1., 1., 1., 1., 1., 1., 1., 1., 1., 1., 1., 2., 2., 2.,\n",
       "        2., 2., 2., 2., 3., 3., 3., 3., 3., 3., 3., 3., 3., 3., 3., 3.,\n",
       "        3., 3., 3., 3., 3., 3., 3., 3.],\n",
       "       [1., 1., 1., 1., 1., 1., 1., 1., 1., 1., 1., 1., 2., 2., 2., 2.,\n",
       "        2., 2., 2., 2., 3., 3., 3., 3., 3., 3., 3., 3., 3., 3., 3., 3.,\n",
       "        3., 3., 3., 3., 3., 3., 3., 3.]])"
      ]
     },
     "metadata": {},
     "execution_count": 39
    }
   ],
   "metadata": {}
  },
  {
   "cell_type": "code",
   "execution_count": 40,
   "source": [
    "fig = plt.figure()\r\n",
    "\r\n",
    "colormap = plt.cm.coolwarm\r\n",
    "plt.matshow(waffle_chart, cmap=colormap)\r\n",
    "plt.colorbar()"
   ],
   "outputs": [
    {
     "output_type": "execute_result",
     "data": {
      "text/plain": [
       "<matplotlib.colorbar.Colorbar at 0x2e32fd09790>"
      ]
     },
     "metadata": {},
     "execution_count": 40
    },
    {
     "output_type": "display_data",
     "data": {
      "text/plain": [
       "<Figure size 432x288 with 0 Axes>"
      ]
     },
     "metadata": {}
    },
    {
     "output_type": "display_data",
     "data": {
      "image/png": "[encoded data removed]",
      "text/plain": [
       "<Figure size 1152x288 with 2 Axes>"
      ]
     },
     "metadata": {
      "needs_background": "light"
     }
    }
   ],
   "metadata": {}
  },
  {
   "cell_type": "code",
   "execution_count": 41,
   "source": [
    "fig = plt.figure()\r\n",
    "\r\n",
    "colormap = plt.cm.coolwarm\r\n",
    "plt.matshow(waffle_chart, cmap=colormap)\r\n",
    "plt.colorbar()\r\n",
    "\r\n",
    "ax = plt.gca()\r\n",
    "\r\n",
    "ax.set_xticks(np.arange(-.5, (width), 1), minor=True)\r\n",
    "ax.set_yticks(np.arange(-.5, (height), 1), minor=True)\r\n",
    "    \r\n",
    "ax.grid(which='minor', color='w', linestyle='-', linewidth=2)\r\n",
    "\r\n",
    "plt.xticks([])\r\n",
    "plt.yticks([])"
   ],
   "outputs": [
    {
     "output_type": "execute_result",
     "data": {
      "text/plain": [
       "([], [])"
      ]
     },
     "metadata": {},
     "execution_count": 41
    },
    {
     "output_type": "display_data",
     "data": {
      "text/plain": [
       "<Figure size 432x288 with 0 Axes>"
      ]
     },
     "metadata": {}
    },
    {
     "output_type": "display_data",
     "data": {
      "image/png": "[encoded data removed]",
      "text/plain": [
       "<Figure size 1152x288 with 2 Axes>"
      ]
     },
     "metadata": {
      "needs_background": "light"
     }
    }
   ],
   "metadata": {}
  },
  {
   "cell_type": "code",
   "execution_count": 42,
   "source": [
    "fig = plt.figure()\r\n",
    "\r\n",
    "colormap = plt.cm.coolwarm\r\n",
    "plt.matshow(waffle_chart, cmap=colormap)\r\n",
    "plt.colorbar()\r\n",
    "\r\n",
    "ax = plt.gca()\r\n",
    "\r\n",
    "ax.set_xticks(np.arange(-.5, (width), 1), minor=True)\r\n",
    "ax.set_yticks(np.arange(-.5, (height), 1), minor=True)\r\n",
    "    \r\n",
    "ax.grid(which='minor', color='w', linestyle='-', linewidth=2)\r\n",
    "\r\n",
    "plt.xticks([])\r\n",
    "plt.yticks([])\r\n",
    "\r\n",
    "values_cumsum = np.cumsum(df_dsn['Total'])\r\n",
    "total_values = values_cumsum[len(values_cumsum) - 1]\r\n",
    "\r\n",
    "legend_handles = []\r\n",
    "for i, category in enumerate(df_dsn.index.values):\r\n",
    "    label_str = category + ' (' + str(df_dsn['Total'][i]) + ')'\r\n",
    "    color_val = colormap(float(values_cumsum[i])/total_values)\r\n",
    "    legend_handles.append(mpatches.Patch(color=color_val, label=label_str))\r\n",
    "\r\n",
    "plt.legend(handles=legend_handles,\r\n",
    "           loc='lower center', \r\n",
    "           ncol=len(df_dsn.index.values),\r\n",
    "           bbox_to_anchor=(0., -0.2, 0.95, .1)\r\n",
    "          )"
   ],
   "outputs": [
    {
     "output_type": "execute_result",
     "data": {
      "text/plain": [
       "<matplotlib.legend.Legend at 0x2e32ebd4640>"
      ]
     },
     "metadata": {},
     "execution_count": 42
    },
    {
     "output_type": "display_data",
     "data": {
      "text/plain": [
       "<Figure size 432x288 with 0 Axes>"
      ]
     },
     "metadata": {}
    },
    {
     "output_type": "display_data",
     "data": {
      "image/png": "[encoded data removed]",
      "text/plain": [
       "<Figure size 1152x288 with 2 Axes>"
      ]
     },
     "metadata": {
      "needs_background": "light"
     }
    }
   ],
   "metadata": {}
  },
  {
   "cell_type": "code",
   "execution_count": 43,
   "source": [
    "def create_waffle_chart(categories, values, height, width, colormap, value_sign=''):\r\n",
    "\r\n",
    "    total_values = sum(values)\r\n",
    "    category_proportions = [(float(value) / total_values) for value in values]\r\n",
    "\r\n",
    "    total_num_tiles = width * height \r\n",
    "    print ('Total number of tiles is', total_num_tiles)\r\n",
    "    \r\n",
    "    tiles_per_category = [round(proportion * total_num_tiles) for proportion in category_proportions]\r\n",
    "\r\n",
    "    for i, tiles in enumerate(tiles_per_category):\r\n",
    "        print (df_dsn.index.values[i] + ': ' + str(tiles))\r\n",
    "    \r\n",
    "    waffle_chart = np.zeros((height, width))\r\n",
    "\r\n",
    "    category_index = 0\r\n",
    "    tile_index = 0\r\n",
    "\r\n",
    "    for col in range(width):\r\n",
    "        for row in range(height):\r\n",
    "            tile_index += 1\r\n",
    "\r\n",
    "            if tile_index > sum(tiles_per_category[0:category_index]):\r\n",
    "                category_index += 1       \r\n",
    "            \r\n",
    "            waffle_chart[row, col] = category_index\r\n",
    "    \r\n",
    "    fig = plt.figure()\r\n",
    "\r\n",
    "    colormap = plt.cm.coolwarm\r\n",
    "    plt.matshow(waffle_chart, cmap=colormap)\r\n",
    "    plt.colorbar()\r\n",
    "\r\n",
    "    ax = plt.gca()\r\n",
    "\r\n",
    "    ax.set_xticks(np.arange(-.5, (width), 1), minor=True)\r\n",
    "    ax.set_yticks(np.arange(-.5, (height), 1), minor=True)\r\n",
    "\r\n",
    "    ax.grid(which='minor', color='w', linestyle='-', linewidth=2)\r\n",
    "\r\n",
    "    plt.xticks([])\r\n",
    "    plt.yticks([])\r\n",
    "\r\n",
    "    values_cumsum = np.cumsum(values)\r\n",
    "    total_values = values_cumsum[len(values_cumsum) - 1]\r\n",
    "\r\n",
    "    legend_handles = []\r\n",
    "    for i, category in enumerate(categories):\r\n",
    "        if value_sign == '%':\r\n",
    "            label_str = category + ' (' + str(values[i]) + value_sign + ')'\r\n",
    "        else:\r\n",
    "            label_str = category + ' (' + value_sign + str(values[i]) + ')'\r\n",
    "            \r\n",
    "        color_val = colormap(float(values_cumsum[i])/total_values)\r\n",
    "        legend_handles.append(mpatches.Patch(color=color_val, label=label_str))\r\n",
    "\r\n",
    "    plt.legend(\r\n",
    "        handles=legend_handles,\r\n",
    "        loc='lower center', \r\n",
    "        ncol=len(categories),\r\n",
    "        bbox_to_anchor=(0., -0.2, 0.95, .1)\r\n",
    "    )"
   ],
   "outputs": [],
   "metadata": {}
  },
  {
   "cell_type": "code",
   "execution_count": 44,
   "source": [
    "width = 40 \r\n",
    "height = 10 \r\n",
    "\r\n",
    "categories = df_dsn.index.values \r\n",
    "values = df_dsn['Total'] \r\n",
    "\r\n",
    "colormap = plt.cm.coolwarm "
   ],
   "outputs": [],
   "metadata": {}
  },
  {
   "cell_type": "code",
   "execution_count": 45,
   "source": [
    "create_waffle_chart(categories, values, height, width, colormap)"
   ],
   "outputs": [
    {
     "output_type": "stream",
     "name": "stdout",
     "text": [
      "Total number of tiles is 400\n",
      "Denmark: 129\n",
      "Norway: 77\n",
      "Sweden: 194\n"
     ]
    },
    {
     "output_type": "display_data",
     "data": {
      "text/plain": [
       "<Figure size 432x288 with 0 Axes>"
      ]
     },
     "metadata": {}
    },
    {
     "output_type": "display_data",
     "data": {
      "image/png": "[encoded data removed]",
      "text/plain": [
       "<Figure size 1152x288 with 2 Axes>"
      ]
     },
     "metadata": {
      "needs_background": "light"
     }
    }
   ],
   "metadata": {}
  },
  {
   "cell_type": "code",
   "execution_count": null,
   "source": [],
   "outputs": [],
   "metadata": {}
  },
  {
   "cell_type": "code",
   "execution_count": 72,
   "source": [
    "!conda install -c conda-forge wordcloud --yes\r\n",
    "\r\n",
    "!pip install wordcloud\r\n",
    "\r\n",
    "from wordcloud import WordCloud, STOPWORDS\r\n",
    "\r\n",
    "print ('Wordcloud is installed and imported!')"
   ],
   "outputs": [
    {
     "output_type": "stream",
     "name": "stdout",
     "text": [
      "Collecting package metadata (current_repodata.json): ...working... done\n",
      "Solving environment: ...working... done\n",
      "\n",
      "# All requested packages already installed.\n",
      "\n",
      "Requirement already satisfied: wordcloud in c:\\users\\farah\\anaconda3\\lib\\site-packages (1.8.1)Wordcloud is installed and imported!\n",
      "Requirement already satisfied: matplotlib in c:\\users\\farah\\anaconda3\\lib\\site-packages (from wordcloud) (3.3.2)\n",
      "Requirement already satisfied: numpy>=1.6.1 in c:\\users\\farah\\anaconda3\\lib\\site-packages (from wordcloud) (1.19.2)\n",
      "Requirement already satisfied: pillow in c:\\users\\farah\\anaconda3\\lib\\site-packages (from wordcloud) (8.0.1)\n",
      "Requirement already satisfied: cycler>=0.10 in c:\\users\\farah\\anaconda3\\lib\\site-packages (from matplotlib->wordcloud) (0.10.0)\n",
      "Requirement already satisfied: python-dateutil>=2.1 in c:\\users\\farah\\anaconda3\\lib\\site-packages (from matplotlib->wordcloud) (2.8.1)\n",
      "Requirement already satisfied: pyparsing!=2.0.4,!=2.1.2,!=2.1.6,>=2.0.3 in c:\\users\\farah\\anaconda3\\lib\\site-packages (from matplotlib->wordcloud) (2.4.7)\n",
      "Requirement already satisfied: kiwisolver>=1.0.1 in c:\\users\\farah\\anaconda3\\lib\\site-packages (from matplotlib->wordcloud) (1.3.0)\n",
      "\n",
      "Requirement already satisfied: certifi>=2020.06.20 in c:\\users\\farah\\anaconda3\\lib\\site-packages (from matplotlib->wordcloud) (2021.5.30)\n",
      "Requirement already satisfied: six in c:\\users\\farah\\anaconda3\\lib\\site-packages (from cycler>=0.10->matplotlib->wordcloud) (1.15.0)\n"
     ]
    }
   ],
   "metadata": {}
  },
  {
   "cell_type": "code",
   "execution_count": 73,
   "source": [
    "# download file and save as alice_novel.txt\r\n",
    "!wget --quiet https://raw.githubusercontent.com/ardhiraka/PFDS_sources/master/alice_novel.txt -O alice_novel.txt\r\n",
    "\r\n",
    "# open the file and read it into a variable alice_novel\r\n",
    "alice_novel = open('alice_novel.txt', 'r').read()\r\n",
    "    \r\n",
    "print ('File downloaded and saved!')"
   ],
   "outputs": [
    {
     "output_type": "stream",
     "name": "stdout",
     "text": [
      "File downloaded and saved!\n"
     ]
    }
   ],
   "metadata": {}
  },
  {
   "cell_type": "code",
   "execution_count": null,
   "source": [],
   "outputs": [],
   "metadata": {}
  },
  {
   "cell_type": "code",
   "execution_count": null,
   "source": [],
   "outputs": [],
   "metadata": {}
  }
 ],
 "metadata": {
  "orig_nbformat": 4,
  "language_info": {
   "name": "python",
   "version": "3.8.5",
   "mimetype": "text/x-python",
   "codemirror_mode": {
    "name": "ipython",
    "version": 3
   },
   "pygments_lexer": "ipython3",
   "nbconvert_exporter": "python",
   "file_extension": ".py"
  },
  "kernelspec": {
   "name": "python3",
   "display_name": "Python 3.8.5 64-bit ('base': conda)"
  },
  "interpreter": {
   "hash": "e9a8cbe108339b3e607c1d1284bcb36d094c42c8cafb0877055799471693e25e"
  }
 },
 "nbformat": 4,
 "nbformat_minor": 2
}